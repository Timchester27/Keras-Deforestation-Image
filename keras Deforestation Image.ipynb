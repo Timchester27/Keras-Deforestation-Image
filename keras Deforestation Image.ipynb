{
 "cells": [
  {
   "cell_type": "code",
   "execution_count": null,
   "id": "8a37a246",
   "metadata": {},
   "outputs": [],
   "source": [
    "import numpy as np \n",
    "import pandas as pd \n",
    "import matplotlib.pyplot as plt\n",
    "%matplotlib inline"
   ]
  },
  {
   "cell_type": "code",
   "execution_count": null,
   "id": "d4e82250",
   "metadata": {},
   "outputs": [],
   "source": [
    "train = pd.read_csv('../input/train_v2.csv')\n",
    "test = pd.read_csv('../input/sample_submission_v2.csv')"
   ]
  },
  {
   "cell_type": "code",
   "execution_count": null,
   "id": "ef145d01",
   "metadata": {},
   "outputs": [],
   "source": [
    "labels = train['tags'].apply(lambda x: x.split(' '))"
   ]
  },
  {
   "cell_type": "code",
   "execution_count": null,
   "id": "bbd9da94",
   "metadata": {},
   "outputs": [],
   "source": [
    "label_list=[]\n",
    "for i in labels:\n",
    "    for j in i:\n",
    "        if j not in label_list:\n",
    "            label_list.append(j)\n",
    "x_train = []"
   ]
  },
  {
   "cell_type": "code",
   "execution_count": null,
   "id": "dc3f87e3",
   "metadata": {},
   "outputs": [],
   "source": [
    "x_train = []\n",
    "x_test = []\n",
    "y_train = []"
   ]
  },
  {
   "cell_type": "code",
   "execution_count": null,
   "id": "0c991b23",
   "metadata": {},
   "outputs": [],
   "source": [
    "label_map = {l: i for i, l in enumerate(label_list)}"
   ]
  },
  {
   "cell_type": "code",
   "execution_count": null,
   "id": "a24f0256",
   "metadata": {},
   "outputs": [],
   "source": [
    "label_map"
   ]
  },
  {
   "cell_type": "code",
   "execution_count": null,
   "id": "d1f35212",
   "metadata": {},
   "outputs": [],
   "source": [
    "from tqdm import tqdm\n",
    "import cv2"
   ]
  },
  {
   "cell_type": "code",
   "execution_count": null,
   "id": "fc954fcf",
   "metadata": {},
   "outputs": [],
   "source": [
    "for f, tags in tqdm(train.values, miniters=1000):\n",
    "    img = cv2.imread('../input/train-jpg/{}.jpg'.format(f))\n",
    "    img = cv2.resize(img,(64,64))\n",
    "    targets = np.zeros(17)\n",
    "    for t in tags.split(' '):\n",
    "        targets[label_map[t]] = 1\n",
    "    x_train.append(img)\n",
    "    y_train.append(targets)"
   ]
  },
  {
   "cell_type": "code",
   "execution_count": null,
   "id": "f0f09e55",
   "metadata": {},
   "outputs": [],
   "source": [
    "for f, tags in tqdm(test.values, miniters=1000):\n",
    "    img = cv2.imread('../input/test-jpg-v2/{}.jpg'.format(f))\n",
    "    img = cv2.resize(img,(64,64))\n",
    "    x_test.append(cv2.resize(img,(64, 64)))"
   ]
  },
  {
   "cell_type": "code",
   "execution_count": null,
   "id": "339383ea",
   "metadata": {},
   "outputs": [],
   "source": [
    "y_train = np.array(y_train)\n",
    "x_train = np.array(x_train, np.float32)/255.0\n",
    "x_test  = np.array(x_test, np.float32)/255.0"
   ]
  },
  {
   "cell_type": "code",
   "execution_count": null,
   "id": "a7fb9f59",
   "metadata": {},
   "outputs": [],
   "source": [
    "print(x_train.shape)\n",
    "print(x_test.shape)\n",
    "print(y_train.shape)"
   ]
  },
  {
   "cell_type": "code",
   "execution_count": null,
   "id": "063b9570",
   "metadata": {},
   "outputs": [],
   "source": [
    "import keras\n",
    "from keras.models import Sequential\n",
    "from keras.layers.core import Dense, Dropout, Activation, Flatten\n",
    "from keras.layers.convolutional import Conv2D, MaxPooling2D\n",
    "from keras.optimizers import Adam\n",
    "np.random.seed(1671)"
   ]
  },
  {
   "cell_type": "code",
   "execution_count": null,
   "id": "a48098d6",
   "metadata": {},
   "outputs": [],
   "source": [
    "model = Sequential()\n",
    "model.add(Conv2D(32, (3,3), strides=(1,1), padding='same', input_shape=(64,64,3)))\n",
    "model.add(Activation('relu'))\n",
    "model.add(Conv2D(32, (3,3),  padding='same' ,strides=(1,1)))\n",
    "model.add(Activation('relu'))\n",
    "model.add(MaxPooling2D(pool_size=(2,2), strides=(2,2)))\n",
    "model.add(Conv2D(64, (3,3),  padding='same' ,strides=(1,1)))\n",
    "model.add(Activation('relu'))\n",
    "model.add(Conv2D(64, (3,3), strides=(1,1)))\n",
    "model.add(Activation('relu'))\n",
    "model.add(MaxPooling2D(pool_size=(2,2), padding='same', strides=(2,2)))\n",
    "model.add(Conv2D(128, (3,3),  padding='same' ,strides=(1,1)))\n",
    "model.add(Activation('relu'))\n",
    "model.add(Conv2D(128, (3,3),  padding='same' ,strides=(1,1)))\n",
    "model.add(Activation('relu'))\n",
    "model.add(MaxPooling2D(pool_size=(2,2), padding='same', strides=(2,2)))\n",
    "model.add(Flatten())\n",
    "model.add(Dense(128))\n",
    "model.add(Activation('relu'))\n",
    "model.add(Dropout(0.25))\n",
    "model.add(Dense(17))\n",
    "model.add(Activation('softmax'))\n",
    "model.summary()"
   ]
  },
  {
   "cell_type": "code",
   "execution_count": null,
   "id": "64db7062",
   "metadata": {},
   "outputs": [],
   "source": [
    "OPTIMIZER = Adam( lr=0.001)\n",
    "model.compile(loss='binary_crossentropy', optimizer=OPTIMIZER , metrics=['accuracy'])\n",
    "history = model.fit(x_train, y_train, batch_size=64, epochs=2, verbose=1, validation_split=0.25)"
   ]
  },
  {
   "cell_type": "code",
   "execution_count": null,
   "id": "a1ecc755",
   "metadata": {},
   "outputs": [],
   "source": [
    "#OPTIMIZER.lr = 0.0001\n",
    "#history = model.fit(x_train, y_train, batch_size=64, epochs=2, verbose=1, validation_split=0.25)"
   ]
  },
  {
   "cell_type": "code",
   "execution_count": null,
   "id": "d0303c96",
   "metadata": {},
   "outputs": [],
   "source": [
    "y_test=[]\n",
    "p_test = model.predict(x_test)\n",
    "y_test.append(p_test)"
   ]
  },
  {
   "cell_type": "code",
   "execution_count": null,
   "id": "feae099c",
   "metadata": {},
   "outputs": [],
   "source": [
    "p_test"
   ]
  },
  {
   "cell_type": "code",
   "execution_count": null,
   "id": "2c9f4722",
   "metadata": {},
   "outputs": [],
   "source": [
    "y_test[0].shape"
   ]
  },
  {
   "cell_type": "code",
   "execution_count": null,
   "id": "b964b06e",
   "metadata": {},
   "outputs": [],
   "source": [
    "result = pd.DataFrame(p_test, columns = label_list)\n",
    "result"
   ]
  },
  {
   "cell_type": "code",
   "execution_count": null,
   "id": "3fb58020",
   "metadata": {},
   "outputs": [],
   "source": [
    "from tqdm import tqdm\n",
    "preds = []\n",
    "for i in tqdm(range(result.shape[0]), miniters=1000):\n",
    "    a = result.ix[[i]]\n",
    "    a = a.apply(lambda x: x > 0.2, axis=1)\n",
    "    a = a.transpose()\n",
    "    a = a.loc[a[i] == True]\n",
    "    ' '.join(list(a.index))\n",
    "    preds.append(' '.join(list(a.index)))"
   ]
  },
  {
   "cell_type": "code",
   "execution_count": null,
   "id": "978bee85",
   "metadata": {},
   "outputs": [],
   "source": [
    "preds"
   ]
  },
  {
   "cell_type": "code",
   "execution_count": null,
   "id": "bf283e01",
   "metadata": {},
   "outputs": [],
   "source": [
    "test['tags'] = preds\n",
    "test.to_csv('submission.csv', index=False)"
   ]
  },
  {
   "cell_type": "code",
   "execution_count": null,
   "id": "b2f4e294",
   "metadata": {},
   "outputs": [],
   "source": [
    "test.to_csv('resul.csv', index=False)"
   ]
  }
 ],
 "metadata": {
  "kernelspec": {
   "display_name": "Python 3",
   "language": "python",
   "name": "python3"
  },
  "language_info": {
   "codemirror_mode": {
    "name": "ipython",
    "version": 3
   },
   "file_extension": ".py",
   "mimetype": "text/x-python",
   "name": "python",
   "nbconvert_exporter": "python",
   "pygments_lexer": "ipython3",
   "version": "3.7.0"
  }
 },
 "nbformat": 4,
 "nbformat_minor": 5
}
